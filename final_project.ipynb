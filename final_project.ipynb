{
 "cells": [
  {
   "cell_type": "markdown",
   "id": "2d873e0b-d1b5-4ef8-af2c-6c991d3b0516",
   "metadata": {},
   "source": [
    "# Data Science Project: Predicting Usage of a Video Game Research Server"
   ]
  },
  {
   "cell_type": "markdown",
   "id": "88f6084c-e7bd-4e78-8d38-ce31cebd548f",
   "metadata": {},
   "source": [
    "## Introduction\n",
    "\n",
    "This project investigated whether a player's level of experience can be predicted by their age and the amount of hours they played. A Minecraft server was set up by a research group in the Department of Computer Science at UBC, in order to record how players navigate the world. However, in order to efficiently allocate their resources such as server hardware, they must target players that are most likely to provide a large amount of data. This project aims to discover  ---- so that they can be targetted in their recruiting efforts, in order to increase the data collected. \n",
    "\n",
    "### Data Description\n",
    "\n",
    "In order to investigate the question, the players.csv data set will be used. This file includes information of the unique players and some data about each player. This file has 7 variables and 196 observation. Each observation represents a player and some of their characteristics. The variables include,\n",
    "\n",
    "- experience: the player's experience level; Beginner, Amateur, Regular, Pro, and Veteran.\n",
    "- subscribe: whether or not the player would be interested in subscribing to a game-related newsletter\n",
    "- hashedEmail: the player's email that has been processed to encrypt it\n",
    "- played_hours: the amount of hours the player played on the server\n",
    "- name: the name of the player\n",
    "- gender: the gender of the player\n",
    "- Age: the age of the player\n",
    "\n",
    "Amongst this variables, there are 3 variables that are important to our data analysis: experience, played_hours, and Age. So, in the data cleaning/wrangling step, we will be removing all the other variables.  \n",
    "\n",
    "There are a couple issues I see with the data. By using the group_by and summarise function, I can see how many players of each experience there are. There seems to be class imbalance amongst the levels, so I will add an oversampling step, using the step_upsample function from the themis R package.\n",
    "\n",
    "Below, are cleaning and wrangling steps, in order to make the data fit for the analysis. "
   ]
  },
  {
   "cell_type": "markdown",
   "id": "b5b23562-9f09-40cc-bde0-c90adcc44625",
   "metadata": {},
   "source": [
    "## Methods and Results\n",
    "describe the methods you used to perform your analysis from beginning to end that narrates the analysis code.\n",
    "your report should include code which:\n",
    "- loads data\n",
    "- wrangles and cleans the data to the format necessary for the planned analysis\n",
    "- performs a summary of the data set that is relevant for exploratory data analysis related to the planned analysis\n",
    "- creates a visualization of the dataset that is relevant for exploratory data analysis related to the planned analysis\n",
    "- Use our visualization best practices to make high-quality plots (make sure to include labels, titles, units of measurement, etc)\n",
    "- Explain any insights you gain from these plots that are relevant to address your question\n",
    "performs the data analysis. For your analysis, you should think about and provide a brief explanation of the following questions:\n",
    "- Why is this method appropriate?\n",
    "- Which assumptions are required, if any, to apply the method selected?\n",
    "- What are the potential limitations or weaknesses of the method selected?\n",
    "- How did you compare and select the model?\n",
    "Note: you should also think about the following:\n",
    "- How are you going to process the data to apply the model? For example: Are you splitting the data? How? How many splits?\n",
    "- What proportions will you use for the splits? At what stage will you split? Will there be a validation set? Will you use cross validation?\n",
    "- creates a visualization of the analysis \n",
    "note: all figures should have a figure number and a legend"
   ]
  },
  {
   "cell_type": "code",
   "execution_count": 8,
   "id": "8ae21e1b-b09b-49c0-83c2-8c0a7a897650",
   "metadata": {},
   "outputs": [],
   "source": [
    "# Run this cell before continuing\n",
    "library(tidyverse)\n",
    "library(tidymodels)\n",
    "library(themis)"
   ]
  },
  {
   "cell_type": "code",
   "execution_count": 9,
   "id": "5bf8d654-a046-4403-8dae-34b6923bed65",
   "metadata": {
    "scrolled": true
   },
   "outputs": [
    {
     "name": "stderr",
     "output_type": "stream",
     "text": [
      "\u001b[1mRows: \u001b[22m\u001b[34m196\u001b[39m \u001b[1mColumns: \u001b[22m\u001b[34m7\u001b[39m\n",
      "\u001b[36m──\u001b[39m \u001b[1mColumn specification\u001b[22m \u001b[36m────────────────────────────────────────────────────────\u001b[39m\n",
      "\u001b[1mDelimiter:\u001b[22m \",\"\n",
      "\u001b[31mchr\u001b[39m (4): experience, hashedEmail, name, gender\n",
      "\u001b[32mdbl\u001b[39m (2): played_hours, Age\n",
      "\u001b[33mlgl\u001b[39m (1): subscribe\n",
      "\n",
      "\u001b[36mℹ\u001b[39m Use `spec()` to retrieve the full column specification for this data.\n",
      "\u001b[36mℹ\u001b[39m Specify the column types or set `show_col_types = FALSE` to quiet this message.\n"
     ]
    },
    {
     "data": {
      "text/html": [
       "<table class=\"dataframe\">\n",
       "<caption>A tibble: 6 × 7</caption>\n",
       "<thead>\n",
       "\t<tr><th scope=col>experience</th><th scope=col>subscribe</th><th scope=col>hashedEmail</th><th scope=col>played_hours</th><th scope=col>name</th><th scope=col>gender</th><th scope=col>Age</th></tr>\n",
       "\t<tr><th scope=col>&lt;chr&gt;</th><th scope=col>&lt;lgl&gt;</th><th scope=col>&lt;chr&gt;</th><th scope=col>&lt;dbl&gt;</th><th scope=col>&lt;chr&gt;</th><th scope=col>&lt;chr&gt;</th><th scope=col>&lt;dbl&gt;</th></tr>\n",
       "</thead>\n",
       "<tbody>\n",
       "\t<tr><td>Pro    </td><td> TRUE</td><td>f6daba428a5e19a3d47574858c13550499be23603422e6a0ee9728f8b53e192d</td><td>30.3</td><td>Morgan   </td><td>Male  </td><td> 9</td></tr>\n",
       "\t<tr><td>Veteran</td><td> TRUE</td><td>f3c813577c458ba0dfef80996f8f32c93b6e8af1fa939732842f2312358a88e9</td><td> 3.8</td><td>Christian</td><td>Male  </td><td>17</td></tr>\n",
       "\t<tr><td>Veteran</td><td>FALSE</td><td>b674dd7ee0d24096d1c019615ce4d12b20fcbff12d79d3c5a9d2118eb7ccbb28</td><td> 0.0</td><td>Blake    </td><td>Male  </td><td>17</td></tr>\n",
       "\t<tr><td>Amateur</td><td> TRUE</td><td>23fe711e0e3b77f1da7aa221ab1192afe21648d47d2b4fa7a5a659ff443a0eb5</td><td> 0.7</td><td>Flora    </td><td>Female</td><td>21</td></tr>\n",
       "\t<tr><td>Regular</td><td> TRUE</td><td>7dc01f10bf20671ecfccdac23812b1b415acd42c2147cb0af4d48fcce2420f3e</td><td> 0.1</td><td>Kylie    </td><td>Male  </td><td>21</td></tr>\n",
       "\t<tr><td>Amateur</td><td> TRUE</td><td>f58aad5996a435f16b0284a3b267f973f9af99e7a89bee0430055a44fa92f977</td><td> 0.0</td><td>Adrian   </td><td>Female</td><td>17</td></tr>\n",
       "</tbody>\n",
       "</table>\n"
      ],
      "text/latex": [
       "A tibble: 6 × 7\n",
       "\\begin{tabular}{lllllll}\n",
       " experience & subscribe & hashedEmail & played\\_hours & name & gender & Age\\\\\n",
       " <chr> & <lgl> & <chr> & <dbl> & <chr> & <chr> & <dbl>\\\\\n",
       "\\hline\n",
       "\t Pro     &  TRUE & f6daba428a5e19a3d47574858c13550499be23603422e6a0ee9728f8b53e192d & 30.3 & Morgan    & Male   &  9\\\\\n",
       "\t Veteran &  TRUE & f3c813577c458ba0dfef80996f8f32c93b6e8af1fa939732842f2312358a88e9 &  3.8 & Christian & Male   & 17\\\\\n",
       "\t Veteran & FALSE & b674dd7ee0d24096d1c019615ce4d12b20fcbff12d79d3c5a9d2118eb7ccbb28 &  0.0 & Blake     & Male   & 17\\\\\n",
       "\t Amateur &  TRUE & 23fe711e0e3b77f1da7aa221ab1192afe21648d47d2b4fa7a5a659ff443a0eb5 &  0.7 & Flora     & Female & 21\\\\\n",
       "\t Regular &  TRUE & 7dc01f10bf20671ecfccdac23812b1b415acd42c2147cb0af4d48fcce2420f3e &  0.1 & Kylie     & Male   & 21\\\\\n",
       "\t Amateur &  TRUE & f58aad5996a435f16b0284a3b267f973f9af99e7a89bee0430055a44fa92f977 &  0.0 & Adrian    & Female & 17\\\\\n",
       "\\end{tabular}\n"
      ],
      "text/markdown": [
       "\n",
       "A tibble: 6 × 7\n",
       "\n",
       "| experience &lt;chr&gt; | subscribe &lt;lgl&gt; | hashedEmail &lt;chr&gt; | played_hours &lt;dbl&gt; | name &lt;chr&gt; | gender &lt;chr&gt; | Age &lt;dbl&gt; |\n",
       "|---|---|---|---|---|---|---|\n",
       "| Pro     |  TRUE | f6daba428a5e19a3d47574858c13550499be23603422e6a0ee9728f8b53e192d | 30.3 | Morgan    | Male   |  9 |\n",
       "| Veteran |  TRUE | f3c813577c458ba0dfef80996f8f32c93b6e8af1fa939732842f2312358a88e9 |  3.8 | Christian | Male   | 17 |\n",
       "| Veteran | FALSE | b674dd7ee0d24096d1c019615ce4d12b20fcbff12d79d3c5a9d2118eb7ccbb28 |  0.0 | Blake     | Male   | 17 |\n",
       "| Amateur |  TRUE | 23fe711e0e3b77f1da7aa221ab1192afe21648d47d2b4fa7a5a659ff443a0eb5 |  0.7 | Flora     | Female | 21 |\n",
       "| Regular |  TRUE | 7dc01f10bf20671ecfccdac23812b1b415acd42c2147cb0af4d48fcce2420f3e |  0.1 | Kylie     | Male   | 21 |\n",
       "| Amateur |  TRUE | f58aad5996a435f16b0284a3b267f973f9af99e7a89bee0430055a44fa92f977 |  0.0 | Adrian    | Female | 17 |\n",
       "\n"
      ],
      "text/plain": [
       "  experience subscribe\n",
       "1 Pro         TRUE    \n",
       "2 Veteran     TRUE    \n",
       "3 Veteran    FALSE    \n",
       "4 Amateur     TRUE    \n",
       "5 Regular     TRUE    \n",
       "6 Amateur     TRUE    \n",
       "  hashedEmail                                                      played_hours\n",
       "1 f6daba428a5e19a3d47574858c13550499be23603422e6a0ee9728f8b53e192d 30.3        \n",
       "2 f3c813577c458ba0dfef80996f8f32c93b6e8af1fa939732842f2312358a88e9  3.8        \n",
       "3 b674dd7ee0d24096d1c019615ce4d12b20fcbff12d79d3c5a9d2118eb7ccbb28  0.0        \n",
       "4 23fe711e0e3b77f1da7aa221ab1192afe21648d47d2b4fa7a5a659ff443a0eb5  0.7        \n",
       "5 7dc01f10bf20671ecfccdac23812b1b415acd42c2147cb0af4d48fcce2420f3e  0.1        \n",
       "6 f58aad5996a435f16b0284a3b267f973f9af99e7a89bee0430055a44fa92f977  0.0        \n",
       "  name      gender Age\n",
       "1 Morgan    Male    9 \n",
       "2 Christian Male   17 \n",
       "3 Blake     Male   17 \n",
       "4 Flora     Female 21 \n",
       "5 Kylie     Male   21 \n",
       "6 Adrian    Female 17 "
      ]
     },
     "metadata": {},
     "output_type": "display_data"
    }
   ],
   "source": [
    "# Loading the player data set\n",
    "player_data <- read_csv(\"data/players.csv\")\n",
    "\n",
    "head(player_data) # to view the first few rows"
   ]
  },
  {
   "cell_type": "code",
   "execution_count": 10,
   "id": "4f75afab-5362-4012-98a8-b228d113e51b",
   "metadata": {},
   "outputs": [
    {
     "ename": "ERROR",
     "evalue": "Error in parse(text = x, srcfile = src): <text>:1:9: unexpected symbol\n1: Looking at\n            ^\n",
     "output_type": "error",
     "traceback": [
      "Error in parse(text = x, srcfile = src): <text>:1:9: unexpected symbol\n1: Looking at\n            ^\nTraceback:\n"
     ]
    }
   ],
   "source": [
    "Looking at the variables, ---- using the select function, called wrangled_player_data"
   ]
  },
  {
   "cell_type": "code",
   "execution_count": 11,
   "id": "e14a5b82-df84-4d08-83f3-c727ddda49ca",
   "metadata": {},
   "outputs": [
    {
     "data": {
      "text/html": [
       "<table class=\"dataframe\">\n",
       "<caption>A tibble: 6 × 3</caption>\n",
       "<thead>\n",
       "\t<tr><th scope=col>experience</th><th scope=col>played_hours</th><th scope=col>Age</th></tr>\n",
       "\t<tr><th scope=col>&lt;fct&gt;</th><th scope=col>&lt;dbl&gt;</th><th scope=col>&lt;dbl&gt;</th></tr>\n",
       "</thead>\n",
       "<tbody>\n",
       "\t<tr><td>Pro    </td><td>30.3</td><td> 9</td></tr>\n",
       "\t<tr><td>Veteran</td><td> 3.8</td><td>17</td></tr>\n",
       "\t<tr><td>Veteran</td><td> 0.0</td><td>17</td></tr>\n",
       "\t<tr><td>Amateur</td><td> 0.7</td><td>21</td></tr>\n",
       "\t<tr><td>Regular</td><td> 0.1</td><td>21</td></tr>\n",
       "\t<tr><td>Amateur</td><td> 0.0</td><td>17</td></tr>\n",
       "</tbody>\n",
       "</table>\n"
      ],
      "text/latex": [
       "A tibble: 6 × 3\n",
       "\\begin{tabular}{lll}\n",
       " experience & played\\_hours & Age\\\\\n",
       " <fct> & <dbl> & <dbl>\\\\\n",
       "\\hline\n",
       "\t Pro     & 30.3 &  9\\\\\n",
       "\t Veteran &  3.8 & 17\\\\\n",
       "\t Veteran &  0.0 & 17\\\\\n",
       "\t Amateur &  0.7 & 21\\\\\n",
       "\t Regular &  0.1 & 21\\\\\n",
       "\t Amateur &  0.0 & 17\\\\\n",
       "\\end{tabular}\n"
      ],
      "text/markdown": [
       "\n",
       "A tibble: 6 × 3\n",
       "\n",
       "| experience &lt;fct&gt; | played_hours &lt;dbl&gt; | Age &lt;dbl&gt; |\n",
       "|---|---|---|\n",
       "| Pro     | 30.3 |  9 |\n",
       "| Veteran |  3.8 | 17 |\n",
       "| Veteran |  0.0 | 17 |\n",
       "| Amateur |  0.7 | 21 |\n",
       "| Regular |  0.1 | 21 |\n",
       "| Amateur |  0.0 | 17 |\n",
       "\n"
      ],
      "text/plain": [
       "  experience played_hours Age\n",
       "1 Pro        30.3          9 \n",
       "2 Veteran     3.8         17 \n",
       "3 Veteran     0.0         17 \n",
       "4 Amateur     0.7         21 \n",
       "5 Regular     0.1         21 \n",
       "6 Amateur     0.0         17 "
      ]
     },
     "metadata": {},
     "output_type": "display_data"
    }
   ],
   "source": [
    "player_wrangle <- player_data_clean <- player_data |>\n",
    "                    select(experience, played_hours, Age) |>\n",
    "                    mutate(experience = as_factor(experience))\n",
    "head(player_wrangle)"
   ]
  },
  {
   "cell_type": "code",
   "execution_count": 12,
   "id": "a2de15e9-b1a2-47e7-baf2-7f744989739c",
   "metadata": {},
   "outputs": [
    {
     "data": {
      "text/html": [
       "<table class=\"dataframe\">\n",
       "<caption>A tibble: 5 × 2</caption>\n",
       "<thead>\n",
       "\t<tr><th scope=col>experience</th><th scope=col>count</th></tr>\n",
       "\t<tr><th scope=col>&lt;fct&gt;</th><th scope=col>&lt;int&gt;</th></tr>\n",
       "</thead>\n",
       "<tbody>\n",
       "\t<tr><td>Pro     </td><td>14</td></tr>\n",
       "\t<tr><td>Veteran </td><td>48</td></tr>\n",
       "\t<tr><td>Amateur </td><td>63</td></tr>\n",
       "\t<tr><td>Regular </td><td>36</td></tr>\n",
       "\t<tr><td>Beginner</td><td>35</td></tr>\n",
       "</tbody>\n",
       "</table>\n"
      ],
      "text/latex": [
       "A tibble: 5 × 2\n",
       "\\begin{tabular}{ll}\n",
       " experience & count\\\\\n",
       " <fct> & <int>\\\\\n",
       "\\hline\n",
       "\t Pro      & 14\\\\\n",
       "\t Veteran  & 48\\\\\n",
       "\t Amateur  & 63\\\\\n",
       "\t Regular  & 36\\\\\n",
       "\t Beginner & 35\\\\\n",
       "\\end{tabular}\n"
      ],
      "text/markdown": [
       "\n",
       "A tibble: 5 × 2\n",
       "\n",
       "| experience &lt;fct&gt; | count &lt;int&gt; |\n",
       "|---|---|\n",
       "| Pro      | 14 |\n",
       "| Veteran  | 48 |\n",
       "| Amateur  | 63 |\n",
       "| Regular  | 36 |\n",
       "| Beginner | 35 |\n",
       "\n"
      ],
      "text/plain": [
       "  experience count\n",
       "1 Pro        14   \n",
       "2 Veteran    48   \n",
       "3 Amateur    63   \n",
       "4 Regular    36   \n",
       "5 Beginner   35   "
      ]
     },
     "metadata": {},
     "output_type": "display_data"
    }
   ],
   "source": [
    "# Seeing how many of each experience level there is\n",
    "exp_count <- player_wrangle |>\n",
    "                group_by(experience) |>\n",
    "                summarise(count = n())\n",
    "exp_count"
   ]
  },
  {
   "cell_type": "markdown",
   "id": "b36006d3-98b4-465b-9987-871b4c5c5353",
   "metadata": {},
   "source": [
    "From this summary, we can see that there is class imbalance; the Amateur level is much more common than Pro. Before we balance the classes, let's split the data set into training and testing, and we will only balance the training set."
   ]
  },
  {
   "cell_type": "code",
   "execution_count": 59,
   "id": "8c57340b-f8bf-4d78-afcd-d8aab647372f",
   "metadata": {},
   "outputs": [],
   "source": [
    "# run this cell to split the data\n",
    "player_split <- initial_split(player_wrangle, prop = 0.70, strata = experience)\n",
    "player_training <- training(player_split)\n",
    "player_testing <- testing(player_split)"
   ]
  },
  {
   "cell_type": "code",
   "execution_count": 58,
   "id": "610bda19-46e5-4766-89c7-0492d8080694",
   "metadata": {},
   "outputs": [
    {
     "data": {
      "text/html": [
       "<table class=\"dataframe\">\n",
       "<caption>A tibble: 5 × 2</caption>\n",
       "<thead>\n",
       "\t<tr><th scope=col>experience</th><th scope=col>n</th></tr>\n",
       "\t<tr><th scope=col>&lt;fct&gt;</th><th scope=col>&lt;int&gt;</th></tr>\n",
       "</thead>\n",
       "<tbody>\n",
       "\t<tr><td>Pro     </td><td>44</td></tr>\n",
       "\t<tr><td>Veteran </td><td>44</td></tr>\n",
       "\t<tr><td>Amateur </td><td>44</td></tr>\n",
       "\t<tr><td>Regular </td><td>44</td></tr>\n",
       "\t<tr><td>Beginner</td><td>44</td></tr>\n",
       "</tbody>\n",
       "</table>\n"
      ],
      "text/latex": [
       "A tibble: 5 × 2\n",
       "\\begin{tabular}{ll}\n",
       " experience & n\\\\\n",
       " <fct> & <int>\\\\\n",
       "\\hline\n",
       "\t Pro      & 44\\\\\n",
       "\t Veteran  & 44\\\\\n",
       "\t Amateur  & 44\\\\\n",
       "\t Regular  & 44\\\\\n",
       "\t Beginner & 44\\\\\n",
       "\\end{tabular}\n"
      ],
      "text/markdown": [
       "\n",
       "A tibble: 5 × 2\n",
       "\n",
       "| experience &lt;fct&gt; | n &lt;int&gt; |\n",
       "|---|---|\n",
       "| Pro      | 44 |\n",
       "| Veteran  | 44 |\n",
       "| Amateur  | 44 |\n",
       "| Regular  | 44 |\n",
       "| Beginner | 44 |\n",
       "\n"
      ],
      "text/plain": [
       "  experience n \n",
       "1 Pro        44\n",
       "2 Veteran    44\n",
       "3 Amateur    44\n",
       "4 Regular    44\n",
       "5 Beginner   44"
      ]
     },
     "metadata": {},
     "output_type": "display_data"
    }
   ],
   "source": [
    "# run this cell to balance the classes\n",
    "player_recipe <- recipe(experience ~ played_hours + Age, data = player_training) |>\n",
    "                    step_scale(all_predictors()) |>\n",
    "                    step_center(all_predictors()) |>\n",
    "                    step_upsample(experience, over_ratio = 1, skip = TRUE)\n",
    "\n",
    "# Let's see if it worked\n",
    "player_upsampled <- player_recipe |>\n",
    "                        prep() |>\n",
    "                        bake(new_data = NULL) |>\n",
    "                        group_by(experience) |>\n",
    "                        summarise(n = n())\n",
    "player_upsampled"
   ]
  }
 ],
 "metadata": {
  "kernelspec": {
   "display_name": "R",
   "language": "R",
   "name": "ir"
  },
  "language_info": {
   "codemirror_mode": "r",
   "file_extension": ".r",
   "mimetype": "text/x-r-source",
   "name": "R",
   "pygments_lexer": "r",
   "version": "4.3.3"
  }
 },
 "nbformat": 4,
 "nbformat_minor": 5
}
